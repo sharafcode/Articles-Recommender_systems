{
 "cells": [
  {
   "cell_type": "code",
   "execution_count": 1,
   "metadata": {
    "collapsed": true
   },
   "outputs": [],
   "source": [
    "from sklearn.feature_extraction.text import TfidfVectorizer, CountVectorizer\n",
    "from sklearn.neighbors import NearestNeighbors\n",
    "import pandas as pd\n",
    "import numpy as np"
   ]
  },
  {
   "cell_type": "code",
   "execution_count": 2,
   "metadata": {},
   "outputs": [],
   "source": [
    "data_articles= pd.read_csv('wiki_people.csv', index_col='name')['text']"
   ]
  },
  {
   "cell_type": "code",
   "execution_count": 3,
   "metadata": {},
   "outputs": [
    {
     "data": {
      "text/plain": [
       "53164"
      ]
     },
     "execution_count": 3,
     "metadata": {},
     "output_type": "execute_result"
    }
   ],
   "source": [
    "len(data_articles)"
   ]
  },
  {
   "cell_type": "code",
   "execution_count": 4,
   "metadata": {},
   "outputs": [],
   "source": [
    "#For creating models with different features\n",
    "def create_NN(feature):\n",
    "    return NearestNeighbors(n_neighbors=10).fit(feature)"
   ]
  },
  {
   "cell_type": "code",
   "execution_count": 5,
   "metadata": {
    "collapsed": true
   },
   "outputs": [],
   "source": [
    "#Predicting the most relevant articles to the query article\n",
    "def get_closest_neighs(name, model, feature, data_set):\n",
    "    row = data_set.index.get_loc(name)\n",
    "    distances, indices = model.kneighbors(feature.getrow(row))\n",
    "    names_similar = pd.Series(indices.flatten()).map(data_set.reset_index()['name'])\n",
    "    result = pd.DataFrame({'distance':distances.flatten(), 'name':names_similar})\n",
    "    return result"
   ]
  },
  {
   "cell_type": "code",
   "execution_count": 6,
   "metadata": {},
   "outputs": [],
   "source": [
    "#Feature Extraction(1)\n",
    "countvec = CountVectorizer()\n",
    "wordvec= countvec.fit_transform(data_articles)"
   ]
  },
  {
   "cell_type": "code",
   "execution_count": 7,
   "metadata": {
    "collapsed": true
   },
   "outputs": [],
   "source": [
    "#Feature Extraction(2)\n",
    "tfidfvec= TfidfVectorizer()\n",
    "tfidf_matrix= tfidfvec.fit_transform(data_articles)"
   ]
  },
  {
   "cell_type": "code",
   "execution_count": 8,
   "metadata": {
    "scrolled": true
   },
   "outputs": [],
   "source": [
    "model_wordvec = create_NN(wordvec)\n",
    "model_tfidf = create_NN(tfidf_matrix)"
   ]
  },
  {
   "cell_type": "code",
   "execution_count": 9,
   "metadata": {},
   "outputs": [
    {
     "name": "stdout",
     "output_type": "stream",
     "text": [
      "Retrieved articles with Word Vector model for 'Barack Obama' Article: \n",
      "    distance                        name\n",
      "0   0.000000                Barack Obama\n",
      "1  33.015148                   Joe Biden\n",
      "2  34.307434              George W. Bush\n",
      "3  35.791060                 Mitt Romney\n",
      "4  36.069378            Lawrence Summers\n",
      "5  36.249138              Walter Mondale\n",
      "6  36.276714            Francisco Barrio\n",
      "7  36.400549                  Don Bonker\n",
      "8  36.441734  Wynn Normington Hugh-Jones\n",
      "9  36.837481    Refael (Rafi) Benvenisti\n",
      "\n",
      "\n",
      " Retrieved articles with tf-idf model for 'Barack Obama' Article: \n",
      "   distance                     name\n",
      "0  0.000000             Barack Obama\n",
      "1  1.067974                Joe Biden\n",
      "2  1.109491   Hillary Rodham Clinton\n",
      "3  1.117104           Samantha Power\n",
      "4  1.139620  Eric Stern (politician)\n",
      "5  1.147363           George W. Bush\n",
      "6  1.149957              John McCain\n",
      "7  1.154632              Artur Davis\n",
      "8  1.157366             Henry Waxman\n",
      "9  1.159638            Jeff Sessions\n"
     ]
    }
   ],
   "source": [
    "print \"Retrieved articles with Word Vector model for 'Barack Obama' Article: \"\n",
    "print get_closest_neighs('Barack Obama',model_wordvec, wordvec , data_articles)\n",
    "print \"\\n\\n Retrieved articles with tf-idf model for 'Barack Obama' Article: \"\n",
    "print get_closest_neighs('Barack Obama',model_tfidf, tfidf_matrix , data_articles)"
   ]
  },
  {
   "cell_type": "code",
   "execution_count": 10,
   "metadata": {
    "scrolled": false
   },
   "outputs": [
    {
     "name": "stdout",
     "output_type": "stream",
     "text": [
      "Retrieved articles with Word Vector model for 'Joe Biden' Article: \n",
      "    distance                        name\n",
      "0   0.000000                   Joe Biden\n",
      "1  28.740216          William R. Hawkins\n",
      "2  29.000000              David Whissell\n",
      "3  29.086079  Michael Henderson (author)\n",
      "4  29.308702                Jimmy Carter\n",
      "5  29.308702        Giancarlo Pagliarini\n",
      "6  29.410882                  John Kerry\n",
      "7  29.529646                 John McCain\n",
      "8  29.916551               Matthew Steen\n",
      "9  30.066593  Peter Fenwick (politician)\n",
      "\n",
      "\n",
      "Retrieved articles with tf-idf model for 'Joe Biden' Article: \n",
      "   distance                    name\n",
      "0  0.000000               Joe Biden\n",
      "1  1.007736              Jill Biden\n",
      "2  1.059652           Cynthia Hogan\n",
      "3  1.067974            Barack Obama\n",
      "4  1.133607             Chris Coons\n",
      "5  1.187922          Michael Castle\n",
      "6  1.194682           Jeff Sessions\n",
      "7  1.196413             John McCain\n",
      "8  1.203451     Kenneth D. Thompson\n",
      "9  1.204226  Hillary Rodham Clinton\n"
     ]
    }
   ],
   "source": [
    "print \"Retrieved articles with Word Vector model for 'Joe Biden' Article: \"\n",
    "print get_closest_neighs('Joe Biden',model_wordvec, wordvec , data_articles)\n",
    "print \"\\n\\nRetrieved articles with tf-idf model for 'Joe Biden' Article: \"\n",
    "print get_closest_neighs('Joe Biden',model_tfidf, tfidf_matrix , data_articles)"
   ]
  },
  {
   "cell_type": "code",
   "execution_count": null,
   "metadata": {
    "collapsed": true
   },
   "outputs": [],
   "source": []
  }
 ],
 "metadata": {
  "kernelspec": {
   "display_name": "Python 2",
   "language": "python",
   "name": "python2"
  },
  "language_info": {
   "codemirror_mode": {
    "name": "ipython",
    "version": 2
   },
   "file_extension": ".py",
   "mimetype": "text/x-python",
   "name": "python",
   "nbconvert_exporter": "python",
   "pygments_lexer": "ipython2",
   "version": "2.7.12"
  }
 },
 "nbformat": 4,
 "nbformat_minor": 2
}
